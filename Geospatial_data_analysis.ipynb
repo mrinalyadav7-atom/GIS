{
  "nbformat": 4,
  "nbformat_minor": 0,
  "metadata": {
    "colab": {
      "name": "Geospatial data analysis.ipynb",
      "provenance": [],
      "collapsed_sections": []
    },
    "kernelspec": {
      "name": "python3",
      "display_name": "Python 3"
    },
    "language_info": {
      "name": "python"
    }
  },
  "cells": [
    {
      "cell_type": "code",
      "metadata": {
        "colab": {
          "base_uri": "https://localhost:8080/"
        },
        "id": "xtO0rbGu-rvq",
        "outputId": "ada483a2-0f8f-45ca-9e40-f026cf9d22c6"
      },
      "source": [
        "pip install geopandas"
      ],
      "execution_count": 2,
      "outputs": [
        {
          "output_type": "stream",
          "text": [
            "Collecting geopandas\n",
            "\u001b[?25l  Downloading https://files.pythonhosted.org/packages/d7/bf/e9cefb69d39155d122b6ddca53893b61535fa6ffdad70bf5ef708977f53f/geopandas-0.9.0-py2.py3-none-any.whl (994kB)\n",
            "\u001b[K     |████████████████████████████████| 1.0MB 5.6MB/s \n",
            "\u001b[?25hCollecting pyproj>=2.2.0\n",
            "\u001b[?25l  Downloading https://files.pythonhosted.org/packages/b1/72/d52e9ca81caef056062d71991b0e9b1d16af042245627c5d0e4916a36c4f/pyproj-3.0.1-cp37-cp37m-manylinux2010_x86_64.whl (6.5MB)\n",
            "\u001b[K     |████████████████████████████████| 6.5MB 8.2MB/s \n",
            "\u001b[?25hRequirement already satisfied: pandas>=0.24.0 in /usr/local/lib/python3.7/dist-packages (from geopandas) (1.1.5)\n",
            "Collecting fiona>=1.8\n",
            "\u001b[?25l  Downloading https://files.pythonhosted.org/packages/47/c2/67d1d0acbaaee3b03e5e22e3b96c33219cb5dd392531c9ff9cee7c2eb3e4/Fiona-1.8.18-cp37-cp37m-manylinux1_x86_64.whl (14.8MB)\n",
            "\u001b[K     |████████████████████████████████| 14.8MB 323kB/s \n",
            "\u001b[?25hRequirement already satisfied: shapely>=1.6 in /usr/local/lib/python3.7/dist-packages (from geopandas) (1.7.1)\n",
            "Requirement already satisfied: certifi in /usr/local/lib/python3.7/dist-packages (from pyproj>=2.2.0->geopandas) (2020.12.5)\n",
            "Requirement already satisfied: python-dateutil>=2.7.3 in /usr/local/lib/python3.7/dist-packages (from pandas>=0.24.0->geopandas) (2.8.1)\n",
            "Requirement already satisfied: numpy>=1.15.4 in /usr/local/lib/python3.7/dist-packages (from pandas>=0.24.0->geopandas) (1.19.5)\n",
            "Requirement already satisfied: pytz>=2017.2 in /usr/local/lib/python3.7/dist-packages (from pandas>=0.24.0->geopandas) (2018.9)\n",
            "Collecting click-plugins>=1.0\n",
            "  Downloading https://files.pythonhosted.org/packages/e9/da/824b92d9942f4e472702488857914bdd50f73021efea15b4cad9aca8ecef/click_plugins-1.1.1-py2.py3-none-any.whl\n",
            "Collecting munch\n",
            "  Downloading https://files.pythonhosted.org/packages/cc/ab/85d8da5c9a45e072301beb37ad7f833cd344e04c817d97e0cc75681d248f/munch-2.5.0-py2.py3-none-any.whl\n",
            "Requirement already satisfied: attrs>=17 in /usr/local/lib/python3.7/dist-packages (from fiona>=1.8->geopandas) (20.3.0)\n",
            "Collecting cligj>=0.5\n",
            "  Downloading https://files.pythonhosted.org/packages/42/1e/947eadf10d6804bf276eb8a038bd5307996dceaaa41cfd21b7a15ec62f5d/cligj-0.7.1-py3-none-any.whl\n",
            "Requirement already satisfied: six>=1.7 in /usr/local/lib/python3.7/dist-packages (from fiona>=1.8->geopandas) (1.15.0)\n",
            "Requirement already satisfied: click<8,>=4.0 in /usr/local/lib/python3.7/dist-packages (from fiona>=1.8->geopandas) (7.1.2)\n",
            "Installing collected packages: pyproj, click-plugins, munch, cligj, fiona, geopandas\n",
            "Successfully installed click-plugins-1.1.1 cligj-0.7.1 fiona-1.8.18 geopandas-0.9.0 munch-2.5.0 pyproj-3.0.1\n"
          ],
          "name": "stdout"
        }
      ]
    },
    {
      "cell_type": "code",
      "metadata": {
        "id": "BxQS6JSV-wYF"
      },
      "source": [
        "%matplotlib inline\n",
        "\n",
        "import pandas as pd\n",
        "import geopandas\n",
        "\n",
        "pd.options.display.max_rows = 10"
      ],
      "execution_count": 5,
      "outputs": []
    },
    {
      "cell_type": "markdown",
      "metadata": {
        "id": "lgj9VSusCI8a"
      },
      "source": [
        "Importing country dataset"
      ]
    },
    {
      "cell_type": "code",
      "metadata": {
        "id": "hSljcPpT-0tS"
      },
      "source": [
        "countries = geopandas.read_file(\"/content/ne_110m_admin_0_countries.zip\")\n",
        "# or if the archive is unpacked:\n",
        "# countries = geopandas.read_file(\"data/ne_110m_admin_0_countries/ne_110m_admin_0_countries.shp\")"
      ],
      "execution_count": 7,
      "outputs": []
    },
    {
      "cell_type": "code",
      "metadata": {
        "colab": {
          "base_uri": "https://localhost:8080/",
          "height": 530
        },
        "id": "LlyJ4Upd-4Z5",
        "outputId": "e3cb6d6f-c875-42b4-d883-849ed53770f4"
      },
      "source": [
        "countries.head()"
      ],
      "execution_count": 18,
      "outputs": [
        {
          "output_type": "execute_result",
          "data": {
            "text/html": [
              "<div>\n",
              "<style scoped>\n",
              "    .dataframe tbody tr th:only-of-type {\n",
              "        vertical-align: middle;\n",
              "    }\n",
              "\n",
              "    .dataframe tbody tr th {\n",
              "        vertical-align: top;\n",
              "    }\n",
              "\n",
              "    .dataframe thead th {\n",
              "        text-align: right;\n",
              "    }\n",
              "</style>\n",
              "<table border=\"1\" class=\"dataframe\">\n",
              "  <thead>\n",
              "    <tr style=\"text-align: right;\">\n",
              "      <th></th>\n",
              "      <th>featurecla</th>\n",
              "      <th>scalerank</th>\n",
              "      <th>LABELRANK</th>\n",
              "      <th>SOVEREIGNT</th>\n",
              "      <th>SOV_A3</th>\n",
              "      <th>ADM0_DIF</th>\n",
              "      <th>LEVEL</th>\n",
              "      <th>TYPE</th>\n",
              "      <th>ADMIN</th>\n",
              "      <th>ADM0_A3</th>\n",
              "      <th>GEOU_DIF</th>\n",
              "      <th>GEOUNIT</th>\n",
              "      <th>GU_A3</th>\n",
              "      <th>SU_DIF</th>\n",
              "      <th>SUBUNIT</th>\n",
              "      <th>SU_A3</th>\n",
              "      <th>BRK_DIFF</th>\n",
              "      <th>NAME</th>\n",
              "      <th>NAME_LONG</th>\n",
              "      <th>BRK_A3</th>\n",
              "      <th>BRK_NAME</th>\n",
              "      <th>BRK_GROUP</th>\n",
              "      <th>ABBREV</th>\n",
              "      <th>POSTAL</th>\n",
              "      <th>FORMAL_EN</th>\n",
              "      <th>FORMAL_FR</th>\n",
              "      <th>NAME_CIAWF</th>\n",
              "      <th>NOTE_ADM0</th>\n",
              "      <th>NOTE_BRK</th>\n",
              "      <th>NAME_SORT</th>\n",
              "      <th>NAME_ALT</th>\n",
              "      <th>MAPCOLOR7</th>\n",
              "      <th>MAPCOLOR8</th>\n",
              "      <th>MAPCOLOR9</th>\n",
              "      <th>MAPCOLOR13</th>\n",
              "      <th>POP_EST</th>\n",
              "      <th>POP_RANK</th>\n",
              "      <th>GDP_MD_EST</th>\n",
              "      <th>POP_YEAR</th>\n",
              "      <th>LASTCENSUS</th>\n",
              "      <th>...</th>\n",
              "      <th>ADM0_A3_IS</th>\n",
              "      <th>ADM0_A3_US</th>\n",
              "      <th>ADM0_A3_UN</th>\n",
              "      <th>ADM0_A3_WB</th>\n",
              "      <th>CONTINENT</th>\n",
              "      <th>REGION_UN</th>\n",
              "      <th>SUBREGION</th>\n",
              "      <th>REGION_WB</th>\n",
              "      <th>NAME_LEN</th>\n",
              "      <th>LONG_LEN</th>\n",
              "      <th>ABBREV_LEN</th>\n",
              "      <th>TINY</th>\n",
              "      <th>HOMEPART</th>\n",
              "      <th>MIN_ZOOM</th>\n",
              "      <th>MIN_LABEL</th>\n",
              "      <th>MAX_LABEL</th>\n",
              "      <th>NE_ID</th>\n",
              "      <th>WIKIDATAID</th>\n",
              "      <th>NAME_AR</th>\n",
              "      <th>NAME_BN</th>\n",
              "      <th>NAME_DE</th>\n",
              "      <th>NAME_EN</th>\n",
              "      <th>NAME_ES</th>\n",
              "      <th>NAME_FR</th>\n",
              "      <th>NAME_EL</th>\n",
              "      <th>NAME_HI</th>\n",
              "      <th>NAME_HU</th>\n",
              "      <th>NAME_ID</th>\n",
              "      <th>NAME_IT</th>\n",
              "      <th>NAME_JA</th>\n",
              "      <th>NAME_KO</th>\n",
              "      <th>NAME_NL</th>\n",
              "      <th>NAME_PL</th>\n",
              "      <th>NAME_PT</th>\n",
              "      <th>NAME_RU</th>\n",
              "      <th>NAME_SV</th>\n",
              "      <th>NAME_TR</th>\n",
              "      <th>NAME_VI</th>\n",
              "      <th>NAME_ZH</th>\n",
              "      <th>geometry</th>\n",
              "    </tr>\n",
              "  </thead>\n",
              "  <tbody>\n",
              "    <tr>\n",
              "      <th>0</th>\n",
              "      <td>Admin-0 country</td>\n",
              "      <td>1</td>\n",
              "      <td>6</td>\n",
              "      <td>Fiji</td>\n",
              "      <td>FJI</td>\n",
              "      <td>0</td>\n",
              "      <td>2</td>\n",
              "      <td>Sovereign country</td>\n",
              "      <td>Fiji</td>\n",
              "      <td>FJI</td>\n",
              "      <td>0</td>\n",
              "      <td>Fiji</td>\n",
              "      <td>FJI</td>\n",
              "      <td>0</td>\n",
              "      <td>Fiji</td>\n",
              "      <td>FJI</td>\n",
              "      <td>0</td>\n",
              "      <td>Fiji</td>\n",
              "      <td>Fiji</td>\n",
              "      <td>FJI</td>\n",
              "      <td>Fiji</td>\n",
              "      <td>None</td>\n",
              "      <td>Fiji</td>\n",
              "      <td>FJ</td>\n",
              "      <td>Republic of Fiji</td>\n",
              "      <td>None</td>\n",
              "      <td>Fiji</td>\n",
              "      <td>None</td>\n",
              "      <td>None</td>\n",
              "      <td>Fiji</td>\n",
              "      <td>None</td>\n",
              "      <td>5</td>\n",
              "      <td>1</td>\n",
              "      <td>2</td>\n",
              "      <td>2</td>\n",
              "      <td>920938</td>\n",
              "      <td>11</td>\n",
              "      <td>8374.0</td>\n",
              "      <td>2017</td>\n",
              "      <td>2007</td>\n",
              "      <td>...</td>\n",
              "      <td>FJI</td>\n",
              "      <td>FJI</td>\n",
              "      <td>-99</td>\n",
              "      <td>-99</td>\n",
              "      <td>Oceania</td>\n",
              "      <td>Oceania</td>\n",
              "      <td>Melanesia</td>\n",
              "      <td>East Asia &amp; Pacific</td>\n",
              "      <td>4</td>\n",
              "      <td>4</td>\n",
              "      <td>4</td>\n",
              "      <td>-99</td>\n",
              "      <td>1</td>\n",
              "      <td>0.0</td>\n",
              "      <td>3.0</td>\n",
              "      <td>8.0</td>\n",
              "      <td>1159320625</td>\n",
              "      <td>Q712</td>\n",
              "      <td>فيجي</td>\n",
              "      <td>ফিজি</td>\n",
              "      <td>Fidschi</td>\n",
              "      <td>Fiji</td>\n",
              "      <td>Fiyi</td>\n",
              "      <td>Fidji</td>\n",
              "      <td>Φίτζι</td>\n",
              "      <td>फ़िजी</td>\n",
              "      <td>Fidzsi-szigetek</td>\n",
              "      <td>Fiji</td>\n",
              "      <td>Figi</td>\n",
              "      <td>フィジー</td>\n",
              "      <td>피지</td>\n",
              "      <td>Fiji</td>\n",
              "      <td>Fidżi</td>\n",
              "      <td>Fiji</td>\n",
              "      <td>Фиджи</td>\n",
              "      <td>Fiji</td>\n",
              "      <td>Fiji</td>\n",
              "      <td>Fiji</td>\n",
              "      <td>斐濟</td>\n",
              "      <td>MULTIPOLYGON (((180.00000 -16.06713, 180.00000...</td>\n",
              "    </tr>\n",
              "    <tr>\n",
              "      <th>1</th>\n",
              "      <td>Admin-0 country</td>\n",
              "      <td>1</td>\n",
              "      <td>3</td>\n",
              "      <td>United Republic of Tanzania</td>\n",
              "      <td>TZA</td>\n",
              "      <td>0</td>\n",
              "      <td>2</td>\n",
              "      <td>Sovereign country</td>\n",
              "      <td>United Republic of Tanzania</td>\n",
              "      <td>TZA</td>\n",
              "      <td>0</td>\n",
              "      <td>Tanzania</td>\n",
              "      <td>TZA</td>\n",
              "      <td>0</td>\n",
              "      <td>Tanzania</td>\n",
              "      <td>TZA</td>\n",
              "      <td>0</td>\n",
              "      <td>Tanzania</td>\n",
              "      <td>Tanzania</td>\n",
              "      <td>TZA</td>\n",
              "      <td>Tanzania</td>\n",
              "      <td>None</td>\n",
              "      <td>Tanz.</td>\n",
              "      <td>TZ</td>\n",
              "      <td>United Republic of Tanzania</td>\n",
              "      <td>None</td>\n",
              "      <td>Tanzania</td>\n",
              "      <td>None</td>\n",
              "      <td>None</td>\n",
              "      <td>Tanzania</td>\n",
              "      <td>None</td>\n",
              "      <td>3</td>\n",
              "      <td>6</td>\n",
              "      <td>2</td>\n",
              "      <td>2</td>\n",
              "      <td>53950935</td>\n",
              "      <td>16</td>\n",
              "      <td>150600.0</td>\n",
              "      <td>2017</td>\n",
              "      <td>2002</td>\n",
              "      <td>...</td>\n",
              "      <td>TZA</td>\n",
              "      <td>TZA</td>\n",
              "      <td>-99</td>\n",
              "      <td>-99</td>\n",
              "      <td>Africa</td>\n",
              "      <td>Africa</td>\n",
              "      <td>Eastern Africa</td>\n",
              "      <td>Sub-Saharan Africa</td>\n",
              "      <td>8</td>\n",
              "      <td>8</td>\n",
              "      <td>5</td>\n",
              "      <td>-99</td>\n",
              "      <td>1</td>\n",
              "      <td>0.0</td>\n",
              "      <td>3.0</td>\n",
              "      <td>8.0</td>\n",
              "      <td>1159321337</td>\n",
              "      <td>Q924</td>\n",
              "      <td>تنزانيا</td>\n",
              "      <td>তানজানিয়া</td>\n",
              "      <td>Tansania</td>\n",
              "      <td>Tanzania</td>\n",
              "      <td>Tanzania</td>\n",
              "      <td>Tanzanie</td>\n",
              "      <td>Τανζανία</td>\n",
              "      <td>तंज़ानिया</td>\n",
              "      <td>Tanzánia</td>\n",
              "      <td>Tanzania</td>\n",
              "      <td>Tanzania</td>\n",
              "      <td>タンザニア</td>\n",
              "      <td>탄자니아</td>\n",
              "      <td>Tanzania</td>\n",
              "      <td>Tanzania</td>\n",
              "      <td>Tanzânia</td>\n",
              "      <td>Танзания</td>\n",
              "      <td>Tanzania</td>\n",
              "      <td>Tanzanya</td>\n",
              "      <td>Tanzania</td>\n",
              "      <td>坦桑尼亚</td>\n",
              "      <td>POLYGON ((33.90371 -0.95000, 34.07262 -1.05982...</td>\n",
              "    </tr>\n",
              "    <tr>\n",
              "      <th>2</th>\n",
              "      <td>Admin-0 country</td>\n",
              "      <td>1</td>\n",
              "      <td>7</td>\n",
              "      <td>Western Sahara</td>\n",
              "      <td>SAH</td>\n",
              "      <td>0</td>\n",
              "      <td>2</td>\n",
              "      <td>Indeterminate</td>\n",
              "      <td>Western Sahara</td>\n",
              "      <td>SAH</td>\n",
              "      <td>0</td>\n",
              "      <td>Western Sahara</td>\n",
              "      <td>SAH</td>\n",
              "      <td>0</td>\n",
              "      <td>Western Sahara</td>\n",
              "      <td>SAH</td>\n",
              "      <td>1</td>\n",
              "      <td>W. Sahara</td>\n",
              "      <td>Western Sahara</td>\n",
              "      <td>B28</td>\n",
              "      <td>W. Sahara</td>\n",
              "      <td>None</td>\n",
              "      <td>W. Sah.</td>\n",
              "      <td>WS</td>\n",
              "      <td>Sahrawi Arab Democratic Republic</td>\n",
              "      <td>None</td>\n",
              "      <td>Western Sahara</td>\n",
              "      <td>Self admin.</td>\n",
              "      <td>Self admin.; Claimed by Morocco</td>\n",
              "      <td>Western Sahara</td>\n",
              "      <td>None</td>\n",
              "      <td>4</td>\n",
              "      <td>7</td>\n",
              "      <td>4</td>\n",
              "      <td>4</td>\n",
              "      <td>603253</td>\n",
              "      <td>11</td>\n",
              "      <td>906.5</td>\n",
              "      <td>2017</td>\n",
              "      <td>-99</td>\n",
              "      <td>...</td>\n",
              "      <td>MAR</td>\n",
              "      <td>SAH</td>\n",
              "      <td>-99</td>\n",
              "      <td>-99</td>\n",
              "      <td>Africa</td>\n",
              "      <td>Africa</td>\n",
              "      <td>Northern Africa</td>\n",
              "      <td>Middle East &amp; North Africa</td>\n",
              "      <td>9</td>\n",
              "      <td>14</td>\n",
              "      <td>7</td>\n",
              "      <td>-99</td>\n",
              "      <td>1</td>\n",
              "      <td>4.7</td>\n",
              "      <td>6.0</td>\n",
              "      <td>11.0</td>\n",
              "      <td>1159321223</td>\n",
              "      <td>Q6250</td>\n",
              "      <td>الصحراء الغربية</td>\n",
              "      <td>পশ্চিম সাহারা</td>\n",
              "      <td>Westsahara</td>\n",
              "      <td>Western Sahara</td>\n",
              "      <td>Sahara Occidental</td>\n",
              "      <td>Sahara occidental</td>\n",
              "      <td>Δυτική Σαχάρα</td>\n",
              "      <td>पश्चिमी सहारा</td>\n",
              "      <td>Nyugat-Szahara</td>\n",
              "      <td>Sahara Barat</td>\n",
              "      <td>Sahara Occidentale</td>\n",
              "      <td>西サハラ</td>\n",
              "      <td>서사하라</td>\n",
              "      <td>Westelijke Sahara</td>\n",
              "      <td>Sahara Zachodnia</td>\n",
              "      <td>Saara Ocidental</td>\n",
              "      <td>Западная Сахара</td>\n",
              "      <td>Västsahara</td>\n",
              "      <td>Batı Sahra</td>\n",
              "      <td>Tây Sahara</td>\n",
              "      <td>西撒哈拉</td>\n",
              "      <td>POLYGON ((-8.66559 27.65643, -8.66512 27.58948...</td>\n",
              "    </tr>\n",
              "    <tr>\n",
              "      <th>3</th>\n",
              "      <td>Admin-0 country</td>\n",
              "      <td>1</td>\n",
              "      <td>2</td>\n",
              "      <td>Canada</td>\n",
              "      <td>CAN</td>\n",
              "      <td>0</td>\n",
              "      <td>2</td>\n",
              "      <td>Sovereign country</td>\n",
              "      <td>Canada</td>\n",
              "      <td>CAN</td>\n",
              "      <td>0</td>\n",
              "      <td>Canada</td>\n",
              "      <td>CAN</td>\n",
              "      <td>0</td>\n",
              "      <td>Canada</td>\n",
              "      <td>CAN</td>\n",
              "      <td>0</td>\n",
              "      <td>Canada</td>\n",
              "      <td>Canada</td>\n",
              "      <td>CAN</td>\n",
              "      <td>Canada</td>\n",
              "      <td>None</td>\n",
              "      <td>Can.</td>\n",
              "      <td>CA</td>\n",
              "      <td>Canada</td>\n",
              "      <td>None</td>\n",
              "      <td>Canada</td>\n",
              "      <td>None</td>\n",
              "      <td>None</td>\n",
              "      <td>Canada</td>\n",
              "      <td>None</td>\n",
              "      <td>6</td>\n",
              "      <td>6</td>\n",
              "      <td>2</td>\n",
              "      <td>2</td>\n",
              "      <td>35623680</td>\n",
              "      <td>15</td>\n",
              "      <td>1674000.0</td>\n",
              "      <td>2017</td>\n",
              "      <td>2011</td>\n",
              "      <td>...</td>\n",
              "      <td>CAN</td>\n",
              "      <td>CAN</td>\n",
              "      <td>-99</td>\n",
              "      <td>-99</td>\n",
              "      <td>North America</td>\n",
              "      <td>Americas</td>\n",
              "      <td>Northern America</td>\n",
              "      <td>North America</td>\n",
              "      <td>6</td>\n",
              "      <td>6</td>\n",
              "      <td>4</td>\n",
              "      <td>-99</td>\n",
              "      <td>1</td>\n",
              "      <td>0.0</td>\n",
              "      <td>1.7</td>\n",
              "      <td>5.7</td>\n",
              "      <td>1159320467</td>\n",
              "      <td>Q16</td>\n",
              "      <td>كندا</td>\n",
              "      <td>কানাডা</td>\n",
              "      <td>Kanada</td>\n",
              "      <td>Canada</td>\n",
              "      <td>Canadá</td>\n",
              "      <td>Canada</td>\n",
              "      <td>Καναδάς</td>\n",
              "      <td>कनाडा</td>\n",
              "      <td>Kanada</td>\n",
              "      <td>Kanada</td>\n",
              "      <td>Canada</td>\n",
              "      <td>カナダ</td>\n",
              "      <td>캐나다</td>\n",
              "      <td>Canada</td>\n",
              "      <td>Kanada</td>\n",
              "      <td>Canadá</td>\n",
              "      <td>Канада</td>\n",
              "      <td>Kanada</td>\n",
              "      <td>Kanada</td>\n",
              "      <td>Canada</td>\n",
              "      <td>加拿大</td>\n",
              "      <td>MULTIPOLYGON (((-122.84000 49.00000, -122.9742...</td>\n",
              "    </tr>\n",
              "    <tr>\n",
              "      <th>4</th>\n",
              "      <td>Admin-0 country</td>\n",
              "      <td>1</td>\n",
              "      <td>2</td>\n",
              "      <td>United States of America</td>\n",
              "      <td>US1</td>\n",
              "      <td>1</td>\n",
              "      <td>2</td>\n",
              "      <td>Country</td>\n",
              "      <td>United States of America</td>\n",
              "      <td>USA</td>\n",
              "      <td>0</td>\n",
              "      <td>United States of America</td>\n",
              "      <td>USA</td>\n",
              "      <td>0</td>\n",
              "      <td>United States</td>\n",
              "      <td>USA</td>\n",
              "      <td>0</td>\n",
              "      <td>United States of America</td>\n",
              "      <td>United States</td>\n",
              "      <td>USA</td>\n",
              "      <td>United States</td>\n",
              "      <td>None</td>\n",
              "      <td>U.S.A.</td>\n",
              "      <td>US</td>\n",
              "      <td>United States of America</td>\n",
              "      <td>None</td>\n",
              "      <td>United States</td>\n",
              "      <td>None</td>\n",
              "      <td>None</td>\n",
              "      <td>United States of America</td>\n",
              "      <td>None</td>\n",
              "      <td>4</td>\n",
              "      <td>5</td>\n",
              "      <td>1</td>\n",
              "      <td>1</td>\n",
              "      <td>326625791</td>\n",
              "      <td>17</td>\n",
              "      <td>18560000.0</td>\n",
              "      <td>2017</td>\n",
              "      <td>2010</td>\n",
              "      <td>...</td>\n",
              "      <td>USA</td>\n",
              "      <td>USA</td>\n",
              "      <td>-99</td>\n",
              "      <td>-99</td>\n",
              "      <td>North America</td>\n",
              "      <td>Americas</td>\n",
              "      <td>Northern America</td>\n",
              "      <td>North America</td>\n",
              "      <td>24</td>\n",
              "      <td>13</td>\n",
              "      <td>6</td>\n",
              "      <td>-99</td>\n",
              "      <td>1</td>\n",
              "      <td>0.0</td>\n",
              "      <td>1.7</td>\n",
              "      <td>5.7</td>\n",
              "      <td>1159321369</td>\n",
              "      <td>Q30</td>\n",
              "      <td>الولايات المتحدة</td>\n",
              "      <td>মার্কিন যুক্তরাষ্ট্র</td>\n",
              "      <td>Vereinigte Staaten</td>\n",
              "      <td>United States of America</td>\n",
              "      <td>Estados Unidos</td>\n",
              "      <td>États-Unis</td>\n",
              "      <td>Ηνωμένες Πολιτείες Αμερικής</td>\n",
              "      <td>संयुक्त राज्य अमेरिका</td>\n",
              "      <td>Amerikai Egyesült Államok</td>\n",
              "      <td>Amerika Serikat</td>\n",
              "      <td>Stati Uniti d'America</td>\n",
              "      <td>アメリカ合衆国</td>\n",
              "      <td>미국</td>\n",
              "      <td>Verenigde Staten van Amerika</td>\n",
              "      <td>Stany Zjednoczone</td>\n",
              "      <td>Estados Unidos</td>\n",
              "      <td>Соединённые Штаты Америки</td>\n",
              "      <td>USA</td>\n",
              "      <td>Amerika Birleşik Devletleri</td>\n",
              "      <td>Hoa Kỳ</td>\n",
              "      <td>美国</td>\n",
              "      <td>MULTIPOLYGON (((-122.84000 49.00000, -120.0000...</td>\n",
              "    </tr>\n",
              "  </tbody>\n",
              "</table>\n",
              "<p>5 rows × 95 columns</p>\n",
              "</div>"
            ],
            "text/plain": [
              "        featurecla  ...                                           geometry\n",
              "0  Admin-0 country  ...  MULTIPOLYGON (((180.00000 -16.06713, 180.00000...\n",
              "1  Admin-0 country  ...  POLYGON ((33.90371 -0.95000, 34.07262 -1.05982...\n",
              "2  Admin-0 country  ...  POLYGON ((-8.66559 27.65643, -8.66512 27.58948...\n",
              "3  Admin-0 country  ...  MULTIPOLYGON (((-122.84000 49.00000, -122.9742...\n",
              "4  Admin-0 country  ...  MULTIPOLYGON (((-122.84000 49.00000, -120.0000...\n",
              "\n",
              "[5 rows x 95 columns]"
            ]
          },
          "metadata": {
            "tags": []
          },
          "execution_count": 18
        }
      ]
    },
    {
      "cell_type": "code",
      "metadata": {
        "colab": {
          "base_uri": "https://localhost:8080/",
          "height": 227
        },
        "id": "gy23eEAH_QmO",
        "outputId": "5a189158-192b-41ee-c8b5-c3d02eb41dba"
      },
      "source": [
        "countries.plot()"
      ],
      "execution_count": 19,
      "outputs": [
        {
          "output_type": "execute_result",
          "data": {
            "text/plain": [
              "<matplotlib.axes._subplots.AxesSubplot at 0x7fcb86280ed0>"
            ]
          },
          "metadata": {
            "tags": []
          },
          "execution_count": 19
        },
        {
          "output_type": "display_data",
          "data": {
            "image/png": "[encoded data removed]",
            "text/plain": [
              "<Figure size 432x288 with 1 Axes>"
            ]
          },
          "metadata": {
            "tags": [],
            "needs_background": "light"
          }
        }
      ]
    },
    {
      "cell_type": "code",
      "metadata": {
        "colab": {
          "base_uri": "https://localhost:8080/"
        },
        "id": "EF3swYCc_Vw2",
        "outputId": "2d952efc-902e-4f9a-8102-da5ef135a4c2"
      },
      "source": [
        "countries['geometry']"
      ],
      "execution_count": 20,
      "outputs": [
        {
          "output_type": "execute_result",
          "data": {
            "text/plain": [
              "0      MULTIPOLYGON (((180.00000 -16.06713, 180.00000...\n",
              "1      POLYGON ((33.90371 -0.95000, 34.07262 -1.05982...\n",
              "2      POLYGON ((-8.66559 27.65643, -8.66512 27.58948...\n",
              "3      MULTIPOLYGON (((-122.84000 49.00000, -122.9742...\n",
              "4      MULTIPOLYGON (((-122.84000 49.00000, -120.0000...\n",
              "                             ...                        \n",
              "172    POLYGON ((18.82982 45.90887, 18.82984 45.90888...\n",
              "173    POLYGON ((20.07070 42.58863, 19.80161 42.50009...\n",
              "174    POLYGON ((20.59025 41.85541, 20.52295 42.21787...\n",
              "175    POLYGON ((-61.68000 10.76000, -61.10500 10.890...\n",
              "176    POLYGON ((30.83385 3.50917, 29.95350 4.17370, ...\n",
              "Name: geometry, Length: 177, dtype: geometry"
            ]
          },
          "metadata": {
            "tags": []
          },
          "execution_count": 20
        }
      ]
    },
    {
      "cell_type": "code",
      "metadata": {
        "colab": {
          "base_uri": "https://localhost:8080/"
        },
        "id": "zLzYu0hj_hJ0",
        "outputId": "1b0db85e-9838-4514-e447-6785679272ba"
      },
      "source": [
        "type(countries)"
      ],
      "execution_count": 21,
      "outputs": [
        {
          "output_type": "execute_result",
          "data": {
            "text/plain": [
              "geopandas.geodataframe.GeoDataFrame"
            ]
          },
          "metadata": {
            "tags": []
          },
          "execution_count": 21
        }
      ]
    },
    {
      "cell_type": "code",
      "metadata": {
        "colab": {
          "base_uri": "https://localhost:8080/"
        },
        "id": "cWD_2nab_mB9",
        "outputId": "4fcdd375-dacf-43f7-cb93-9b32904cf0b8"
      },
      "source": [
        "countries.geometry"
      ],
      "execution_count": 22,
      "outputs": [
        {
          "output_type": "execute_result",
          "data": {
            "text/plain": [
              "0      MULTIPOLYGON (((180.00000 -16.06713, 180.00000...\n",
              "1      POLYGON ((33.90371 -0.95000, 34.07262 -1.05982...\n",
              "2      POLYGON ((-8.66559 27.65643, -8.66512 27.58948...\n",
              "3      MULTIPOLYGON (((-122.84000 49.00000, -122.9742...\n",
              "4      MULTIPOLYGON (((-122.84000 49.00000, -120.0000...\n",
              "                             ...                        \n",
              "172    POLYGON ((18.82982 45.90887, 18.82984 45.90888...\n",
              "173    POLYGON ((20.07070 42.58863, 19.80161 42.50009...\n",
              "174    POLYGON ((20.59025 41.85541, 20.52295 42.21787...\n",
              "175    POLYGON ((-61.68000 10.76000, -61.10500 10.890...\n",
              "176    POLYGON ((30.83385 3.50917, 29.95350 4.17370, ...\n",
              "Name: geometry, Length: 177, dtype: geometry"
            ]
          },
          "metadata": {
            "tags": []
          },
          "execution_count": 22
        }
      ]
    },
    {
      "cell_type": "code",
      "metadata": {
        "colab": {
          "base_uri": "https://localhost:8080/"
        },
        "id": "ewvNM2v8_o5v",
        "outputId": "95f14f27-37cc-4e47-d323-69db137ee5e1"
      },
      "source": [
        "\n",
        "type(countries.geometry)"
      ],
      "execution_count": 23,
      "outputs": [
        {
          "output_type": "execute_result",
          "data": {
            "text/plain": [
              "geopandas.geoseries.GeoSeries"
            ]
          },
          "metadata": {
            "tags": []
          },
          "execution_count": 23
        }
      ]
    },
    {
      "cell_type": "code",
      "metadata": {
        "colab": {
          "base_uri": "https://localhost:8080/"
        },
        "id": "zSRsol12_sMK",
        "outputId": "43caaf51-d181-4d4e-ed2d-0371daee0b0d"
      },
      "source": [
        "countries.geometry.area"
      ],
      "execution_count": 24,
      "outputs": [
        {
          "output_type": "stream",
          "text": [
            "/usr/local/lib/python3.7/dist-packages/ipykernel_launcher.py:1: UserWarning: Geometry is in a geographic CRS. Results from 'area' are likely incorrect. Use 'GeoSeries.to_crs()' to re-project geometries to a projected CRS before this operation.\n",
            "\n",
            "  \"\"\"Entry point for launching an IPython kernel.\n"
          ],
          "name": "stderr"
        },
        {
          "output_type": "execute_result",
          "data": {
            "text/plain": [
              "0         1.639511\n",
              "1        76.301964\n",
              "2         8.603984\n",
              "3      1712.995228\n",
              "4      1122.281921\n",
              "          ...     \n",
              "172       8.604719\n",
              "173       1.479321\n",
              "174       1.231641\n",
              "175       0.639000\n",
              "176      51.196106\n",
              "Length: 177, dtype: float64"
            ]
          },
          "metadata": {
            "tags": []
          },
          "execution_count": 24
        }
      ]
    },
    {
      "cell_type": "code",
      "metadata": {
        "colab": {
          "base_uri": "https://localhost:8080/"
        },
        "id": "9tpVEf0H_uex",
        "outputId": "aae0734f-e771-4814-ffa6-6856f9845d9f"
      },
      "source": [
        "countries['POP_EST'].mean()"
      ],
      "execution_count": 26,
      "outputs": [
        {
          "output_type": "execute_result",
          "data": {
            "text/plain": [
              "41712369.84180791"
            ]
          },
          "metadata": {
            "tags": []
          },
          "execution_count": 26
        }
      ]
    },
    {
      "cell_type": "code",
      "metadata": {
        "colab": {
          "base_uri": "https://localhost:8080/",
          "height": 1000
        },
        "id": "2tPLhueIAUuN",
        "outputId": "5c0113c9-1900-4a79-b6ee-13987ca46d9e"
      },
      "source": [
        "africa = countries[countries['CONTINENT'] == 'Africa']\n",
        "africa"
      ],
      "execution_count": 28,
      "outputs": [
        {
          "output_type": "execute_result",
          "data": {
            "text/html": [
              "<div>\n",
              "<style scoped>\n",
              "    .dataframe tbody tr th:only-of-type {\n",
              "        vertical-align: middle;\n",
              "    }\n",
              "\n",
              "    .dataframe tbody tr th {\n",
              "        vertical-align: top;\n",
              "    }\n",
              "\n",
              "    .dataframe thead th {\n",
              "        text-align: right;\n",
              "    }\n",
              "</style>\n",
              "<table border=\"1\" class=\"dataframe\">\n",
              "  <thead>\n",
              "    <tr style=\"text-align: right;\">\n",
              "      <th></th>\n",
              "      <th>featurecla</th>\n",
              "      <th>scalerank</th>\n",
              "      <th>LABELRANK</th>\n",
              "      <th>SOVEREIGNT</th>\n",
              "      <th>SOV_A3</th>\n",
              "      <th>ADM0_DIF</th>\n",
              "      <th>LEVEL</th>\n",
              "      <th>TYPE</th>\n",
              "      <th>ADMIN</th>\n",
              "      <th>ADM0_A3</th>\n",
              "      <th>GEOU_DIF</th>\n",
              "      <th>GEOUNIT</th>\n",
              "      <th>GU_A3</th>\n",
              "      <th>SU_DIF</th>\n",
              "      <th>SUBUNIT</th>\n",
              "      <th>SU_A3</th>\n",
              "      <th>BRK_DIFF</th>\n",
              "      <th>NAME</th>\n",
              "      <th>NAME_LONG</th>\n",
              "      <th>BRK_A3</th>\n",
              "      <th>BRK_NAME</th>\n",
              "      <th>BRK_GROUP</th>\n",
              "      <th>ABBREV</th>\n",
              "      <th>POSTAL</th>\n",
              "      <th>FORMAL_EN</th>\n",
              "      <th>FORMAL_FR</th>\n",
              "      <th>NAME_CIAWF</th>\n",
              "      <th>NOTE_ADM0</th>\n",
              "      <th>NOTE_BRK</th>\n",
              "      <th>NAME_SORT</th>\n",
              "      <th>NAME_ALT</th>\n",
              "      <th>MAPCOLOR7</th>\n",
              "      <th>MAPCOLOR8</th>\n",
              "      <th>MAPCOLOR9</th>\n",
              "      <th>MAPCOLOR13</th>\n",
              "      <th>POP_EST</th>\n",
              "      <th>POP_RANK</th>\n",
              "      <th>GDP_MD_EST</th>\n",
              "      <th>POP_YEAR</th>\n",
              "      <th>LASTCENSUS</th>\n",
              "      <th>...</th>\n",
              "      <th>ADM0_A3_IS</th>\n",
              "      <th>ADM0_A3_US</th>\n",
              "      <th>ADM0_A3_UN</th>\n",
              "      <th>ADM0_A3_WB</th>\n",
              "      <th>CONTINENT</th>\n",
              "      <th>REGION_UN</th>\n",
              "      <th>SUBREGION</th>\n",
              "      <th>REGION_WB</th>\n",
              "      <th>NAME_LEN</th>\n",
              "      <th>LONG_LEN</th>\n",
              "      <th>ABBREV_LEN</th>\n",
              "      <th>TINY</th>\n",
              "      <th>HOMEPART</th>\n",
              "      <th>MIN_ZOOM</th>\n",
              "      <th>MIN_LABEL</th>\n",
              "      <th>MAX_LABEL</th>\n",
              "      <th>NE_ID</th>\n",
              "      <th>WIKIDATAID</th>\n",
              "      <th>NAME_AR</th>\n",
              "      <th>NAME_BN</th>\n",
              "      <th>NAME_DE</th>\n",
              "      <th>NAME_EN</th>\n",
              "      <th>NAME_ES</th>\n",
              "      <th>NAME_FR</th>\n",
              "      <th>NAME_EL</th>\n",
              "      <th>NAME_HI</th>\n",
              "      <th>NAME_HU</th>\n",
              "      <th>NAME_ID</th>\n",
              "      <th>NAME_IT</th>\n",
              "      <th>NAME_JA</th>\n",
              "      <th>NAME_KO</th>\n",
              "      <th>NAME_NL</th>\n",
              "      <th>NAME_PL</th>\n",
              "      <th>NAME_PT</th>\n",
              "      <th>NAME_RU</th>\n",
              "      <th>NAME_SV</th>\n",
              "      <th>NAME_TR</th>\n",
              "      <th>NAME_VI</th>\n",
              "      <th>NAME_ZH</th>\n",
              "      <th>geometry</th>\n",
              "    </tr>\n",
              "  </thead>\n",
              "  <tbody>\n",
              "    <tr>\n",
              "      <th>1</th>\n",
              "      <td>Admin-0 country</td>\n",
              "      <td>1</td>\n",
              "      <td>3</td>\n",
              "      <td>United Republic of Tanzania</td>\n",
              "      <td>TZA</td>\n",
              "      <td>0</td>\n",
              "      <td>2</td>\n",
              "      <td>Sovereign country</td>\n",
              "      <td>United Republic of Tanzania</td>\n",
              "      <td>TZA</td>\n",
              "      <td>0</td>\n",
              "      <td>Tanzania</td>\n",
              "      <td>TZA</td>\n",
              "      <td>0</td>\n",
              "      <td>Tanzania</td>\n",
              "      <td>TZA</td>\n",
              "      <td>0</td>\n",
              "      <td>Tanzania</td>\n",
              "      <td>Tanzania</td>\n",
              "      <td>TZA</td>\n",
              "      <td>Tanzania</td>\n",
              "      <td>None</td>\n",
              "      <td>Tanz.</td>\n",
              "      <td>TZ</td>\n",
              "      <td>United Republic of Tanzania</td>\n",
              "      <td>None</td>\n",
              "      <td>Tanzania</td>\n",
              "      <td>None</td>\n",
              "      <td>None</td>\n",
              "      <td>Tanzania</td>\n",
              "      <td>None</td>\n",
              "      <td>3</td>\n",
              "      <td>6</td>\n",
              "      <td>2</td>\n",
              "      <td>2</td>\n",
              "      <td>53950935</td>\n",
              "      <td>16</td>\n",
              "      <td>150600.0</td>\n",
              "      <td>2017</td>\n",
              "      <td>2002</td>\n",
              "      <td>...</td>\n",
              "      <td>TZA</td>\n",
              "      <td>TZA</td>\n",
              "      <td>-99</td>\n",
              "      <td>-99</td>\n",
              "      <td>Africa</td>\n",
              "      <td>Africa</td>\n",
              "      <td>Eastern Africa</td>\n",
              "      <td>Sub-Saharan Africa</td>\n",
              "      <td>8</td>\n",
              "      <td>8</td>\n",
              "      <td>5</td>\n",
              "      <td>-99</td>\n",
              "      <td>1</td>\n",
              "      <td>0.0</td>\n",
              "      <td>3.0</td>\n",
              "      <td>8.0</td>\n",
              "      <td>1159321337</td>\n",
              "      <td>Q924</td>\n",
              "      <td>تنزانيا</td>\n",
              "      <td>তানজানিয়া</td>\n",
              "      <td>Tansania</td>\n",
              "      <td>Tanzania</td>\n",
              "      <td>Tanzania</td>\n",
              "      <td>Tanzanie</td>\n",
              "      <td>Τανζανία</td>\n",
              "      <td>तंज़ानिया</td>\n",
              "      <td>Tanzánia</td>\n",
              "      <td>Tanzania</td>\n",
              "      <td>Tanzania</td>\n",
              "      <td>タンザニア</td>\n",
              "      <td>탄자니아</td>\n",
              "      <td>Tanzania</td>\n",
              "      <td>Tanzania</td>\n",
              "      <td>Tanzânia</td>\n",
              "      <td>Танзания</td>\n",
              "      <td>Tanzania</td>\n",
              "      <td>Tanzanya</td>\n",
              "      <td>Tanzania</td>\n",
              "      <td>坦桑尼亚</td>\n",
              "      <td>POLYGON ((33.90371 -0.95000, 34.07262 -1.05982...</td>\n",
              "    </tr>\n",
              "    <tr>\n",
              "      <th>2</th>\n",
              "      <td>Admin-0 country</td>\n",
              "      <td>1</td>\n",
              "      <td>7</td>\n",
              "      <td>Western Sahara</td>\n",
              "      <td>SAH</td>\n",
              "      <td>0</td>\n",
              "      <td>2</td>\n",
              "      <td>Indeterminate</td>\n",
              "      <td>Western Sahara</td>\n",
              "      <td>SAH</td>\n",
              "      <td>0</td>\n",
              "      <td>Western Sahara</td>\n",
              "      <td>SAH</td>\n",
              "      <td>0</td>\n",
              "      <td>Western Sahara</td>\n",
              "      <td>SAH</td>\n",
              "      <td>1</td>\n",
              "      <td>W. Sahara</td>\n",
              "      <td>Western Sahara</td>\n",
              "      <td>B28</td>\n",
              "      <td>W. Sahara</td>\n",
              "      <td>None</td>\n",
              "      <td>W. Sah.</td>\n",
              "      <td>WS</td>\n",
              "      <td>Sahrawi Arab Democratic Republic</td>\n",
              "      <td>None</td>\n",
              "      <td>Western Sahara</td>\n",
              "      <td>Self admin.</td>\n",
              "      <td>Self admin.; Claimed by Morocco</td>\n",
              "      <td>Western Sahara</td>\n",
              "      <td>None</td>\n",
              "      <td>4</td>\n",
              "      <td>7</td>\n",
              "      <td>4</td>\n",
              "      <td>4</td>\n",
              "      <td>603253</td>\n",
              "      <td>11</td>\n",
              "      <td>906.5</td>\n",
              "      <td>2017</td>\n",
              "      <td>-99</td>\n",
              "      <td>...</td>\n",
              "      <td>MAR</td>\n",
              "      <td>SAH</td>\n",
              "      <td>-99</td>\n",
              "      <td>-99</td>\n",
              "      <td>Africa</td>\n",
              "      <td>Africa</td>\n",
              "      <td>Northern Africa</td>\n",
              "      <td>Middle East &amp; North Africa</td>\n",
              "      <td>9</td>\n",
              "      <td>14</td>\n",
              "      <td>7</td>\n",
              "      <td>-99</td>\n",
              "      <td>1</td>\n",
              "      <td>4.7</td>\n",
              "      <td>6.0</td>\n",
              "      <td>11.0</td>\n",
              "      <td>1159321223</td>\n",
              "      <td>Q6250</td>\n",
              "      <td>الصحراء الغربية</td>\n",
              "      <td>পশ্চিম সাহারা</td>\n",
              "      <td>Westsahara</td>\n",
              "      <td>Western Sahara</td>\n",
              "      <td>Sahara Occidental</td>\n",
              "      <td>Sahara occidental</td>\n",
              "      <td>Δυτική Σαχάρα</td>\n",
              "      <td>पश्चिमी सहारा</td>\n",
              "      <td>Nyugat-Szahara</td>\n",
              "      <td>Sahara Barat</td>\n",
              "      <td>Sahara Occidentale</td>\n",
              "      <td>西サハラ</td>\n",
              "      <td>서사하라</td>\n",
              "      <td>Westelijke Sahara</td>\n",
              "      <td>Sahara Zachodnia</td>\n",
              "      <td>Saara Ocidental</td>\n",
              "      <td>Западная Сахара</td>\n",
              "      <td>Västsahara</td>\n",
              "      <td>Batı Sahra</td>\n",
              "      <td>Tây Sahara</td>\n",
              "      <td>西撒哈拉</td>\n",
              "      <td>POLYGON ((-8.66559 27.65643, -8.66512 27.58948...</td>\n",
              "    </tr>\n",
              "    <tr>\n",
              "      <th>11</th>\n",
              "      <td>Admin-0 country</td>\n",
              "      <td>1</td>\n",
              "      <td>2</td>\n",
              "      <td>Democratic Republic of the Congo</td>\n",
              "      <td>COD</td>\n",
              "      <td>0</td>\n",
              "      <td>2</td>\n",
              "      <td>Sovereign country</td>\n",
              "      <td>Democratic Republic of the Congo</td>\n",
              "      <td>COD</td>\n",
              "      <td>0</td>\n",
              "      <td>Democratic Republic of the Congo</td>\n",
              "      <td>COD</td>\n",
              "      <td>0</td>\n",
              "      <td>Democratic Republic of the Congo</td>\n",
              "      <td>COD</td>\n",
              "      <td>0</td>\n",
              "      <td>Dem. Rep. Congo</td>\n",
              "      <td>Democratic Republic of the Congo</td>\n",
              "      <td>COD</td>\n",
              "      <td>Democratic Republic of the Congo</td>\n",
              "      <td>None</td>\n",
              "      <td>D.R.C.</td>\n",
              "      <td>DRC</td>\n",
              "      <td>Democratic Republic of the Congo</td>\n",
              "      <td>None</td>\n",
              "      <td>Congo, Democratic Republic of the</td>\n",
              "      <td>None</td>\n",
              "      <td>None</td>\n",
              "      <td>Congo, Dem. Rep.</td>\n",
              "      <td>None</td>\n",
              "      <td>4</td>\n",
              "      <td>4</td>\n",
              "      <td>4</td>\n",
              "      <td>7</td>\n",
              "      <td>83301151</td>\n",
              "      <td>16</td>\n",
              "      <td>66010.0</td>\n",
              "      <td>2017</td>\n",
              "      <td>1984</td>\n",
              "      <td>...</td>\n",
              "      <td>COD</td>\n",
              "      <td>COD</td>\n",
              "      <td>-99</td>\n",
              "      <td>-99</td>\n",
              "      <td>Africa</td>\n",
              "      <td>Africa</td>\n",
              "      <td>Middle Africa</td>\n",
              "      <td>Sub-Saharan Africa</td>\n",
              "      <td>15</td>\n",
              "      <td>32</td>\n",
              "      <td>6</td>\n",
              "      <td>-99</td>\n",
              "      <td>1</td>\n",
              "      <td>0.0</td>\n",
              "      <td>2.0</td>\n",
              "      <td>7.0</td>\n",
              "      <td>1159320513</td>\n",
              "      <td>Q974</td>\n",
              "      <td>جمهورية الكونغو الديمقراطية</td>\n",
              "      <td>গণতান্ত্রিক কঙ্গো প্রজাতন্ত্র</td>\n",
              "      <td>Demokratische Republik Kongo</td>\n",
              "      <td>Democratic Republic of the Congo</td>\n",
              "      <td>República Democrática del Congo</td>\n",
              "      <td>République démocratique du Congo</td>\n",
              "      <td>Λαϊκή Δημοκρατία του Κονγκό</td>\n",
              "      <td>कांगो लोकतान्त्रिक गणराज्य</td>\n",
              "      <td>Kongói Demokratikus Köztársaság</td>\n",
              "      <td>Republik Demokratik Kongo</td>\n",
              "      <td>Repubblica Democratica del Congo</td>\n",
              "      <td>コンゴ民主共和国</td>\n",
              "      <td>콩고 민주 공화국</td>\n",
              "      <td>Congo-Kinshasa</td>\n",
              "      <td>Demokratyczna Republika Konga</td>\n",
              "      <td>República Democrática do Congo</td>\n",
              "      <td>Демократическая Республика Конго</td>\n",
              "      <td>Kongo-Kinshasa</td>\n",
              "      <td>Demokratik Kongo Cumhuriyeti</td>\n",
              "      <td>Cộng hòa Dân chủ Congo</td>\n",
              "      <td>刚果民主共和国</td>\n",
              "      <td>POLYGON ((29.34000 -4.49998, 29.51999 -5.41998...</td>\n",
              "    </tr>\n",
              "    <tr>\n",
              "      <th>12</th>\n",
              "      <td>Admin-0 country</td>\n",
              "      <td>1</td>\n",
              "      <td>6</td>\n",
              "      <td>Somalia</td>\n",
              "      <td>SOM</td>\n",
              "      <td>0</td>\n",
              "      <td>2</td>\n",
              "      <td>Sovereign country</td>\n",
              "      <td>Somalia</td>\n",
              "      <td>SOM</td>\n",
              "      <td>0</td>\n",
              "      <td>Somalia</td>\n",
              "      <td>SOM</td>\n",
              "      <td>0</td>\n",
              "      <td>Somalia</td>\n",
              "      <td>SOM</td>\n",
              "      <td>0</td>\n",
              "      <td>Somalia</td>\n",
              "      <td>Somalia</td>\n",
              "      <td>SOM</td>\n",
              "      <td>Somalia</td>\n",
              "      <td>None</td>\n",
              "      <td>Som.</td>\n",
              "      <td>SO</td>\n",
              "      <td>Federal Republic of Somalia</td>\n",
              "      <td>None</td>\n",
              "      <td>Somalia</td>\n",
              "      <td>None</td>\n",
              "      <td>None</td>\n",
              "      <td>Somalia</td>\n",
              "      <td>None</td>\n",
              "      <td>2</td>\n",
              "      <td>8</td>\n",
              "      <td>6</td>\n",
              "      <td>7</td>\n",
              "      <td>7531386</td>\n",
              "      <td>13</td>\n",
              "      <td>4719.0</td>\n",
              "      <td>2017</td>\n",
              "      <td>1987</td>\n",
              "      <td>...</td>\n",
              "      <td>SOM</td>\n",
              "      <td>SOM</td>\n",
              "      <td>-99</td>\n",
              "      <td>-99</td>\n",
              "      <td>Africa</td>\n",
              "      <td>Africa</td>\n",
              "      <td>Eastern Africa</td>\n",
              "      <td>Sub-Saharan Africa</td>\n",
              "      <td>7</td>\n",
              "      <td>7</td>\n",
              "      <td>4</td>\n",
              "      <td>-99</td>\n",
              "      <td>1</td>\n",
              "      <td>0.0</td>\n",
              "      <td>4.0</td>\n",
              "      <td>9.0</td>\n",
              "      <td>1159321261</td>\n",
              "      <td>Q1045</td>\n",
              "      <td>الصومال</td>\n",
              "      <td>সোমালিয়া</td>\n",
              "      <td>Somalia</td>\n",
              "      <td>Somalia</td>\n",
              "      <td>Somalia</td>\n",
              "      <td>Somalie</td>\n",
              "      <td>Σομαλία</td>\n",
              "      <td>सोमालिया</td>\n",
              "      <td>Szomália</td>\n",
              "      <td>Somalia</td>\n",
              "      <td>Somalia</td>\n",
              "      <td>ソマリア</td>\n",
              "      <td>소말리아</td>\n",
              "      <td>Somalië</td>\n",
              "      <td>Somalia</td>\n",
              "      <td>Somália</td>\n",
              "      <td>Сомали</td>\n",
              "      <td>Somalia</td>\n",
              "      <td>Somali</td>\n",
              "      <td>Somalia</td>\n",
              "      <td>索马里</td>\n",
              "      <td>POLYGON ((41.58513 -1.68325, 40.99300 -0.85829...</td>\n",
              "    </tr>\n",
              "    <tr>\n",
              "      <th>13</th>\n",
              "      <td>Admin-0 country</td>\n",
              "      <td>1</td>\n",
              "      <td>2</td>\n",
              "      <td>Kenya</td>\n",
              "      <td>KEN</td>\n",
              "      <td>0</td>\n",
              "      <td>2</td>\n",
              "      <td>Sovereign country</td>\n",
              "      <td>Kenya</td>\n",
              "      <td>KEN</td>\n",
              "      <td>0</td>\n",
              "      <td>Kenya</td>\n",
              "      <td>KEN</td>\n",
              "      <td>0</td>\n",
              "      <td>Kenya</td>\n",
              "      <td>KEN</td>\n",
              "      <td>0</td>\n",
              "      <td>Kenya</td>\n",
              "      <td>Kenya</td>\n",
              "      <td>KEN</td>\n",
              "      <td>Kenya</td>\n",
              "      <td>None</td>\n",
              "      <td>Ken.</td>\n",
              "      <td>KE</td>\n",
              "      <td>Republic of Kenya</td>\n",
              "      <td>None</td>\n",
              "      <td>Kenya</td>\n",
              "      <td>None</td>\n",
              "      <td>None</td>\n",
              "      <td>Kenya</td>\n",
              "      <td>None</td>\n",
              "      <td>5</td>\n",
              "      <td>2</td>\n",
              "      <td>7</td>\n",
              "      <td>3</td>\n",
              "      <td>47615739</td>\n",
              "      <td>15</td>\n",
              "      <td>152700.0</td>\n",
              "      <td>2017</td>\n",
              "      <td>2009</td>\n",
              "      <td>...</td>\n",
              "      <td>KEN</td>\n",
              "      <td>KEN</td>\n",
              "      <td>-99</td>\n",
              "      <td>-99</td>\n",
              "      <td>Africa</td>\n",
              "      <td>Africa</td>\n",
              "      <td>Eastern Africa</td>\n",
              "      <td>Sub-Saharan Africa</td>\n",
              "      <td>5</td>\n",
              "      <td>5</td>\n",
              "      <td>4</td>\n",
              "      <td>-99</td>\n",
              "      <td>1</td>\n",
              "      <td>0.0</td>\n",
              "      <td>1.7</td>\n",
              "      <td>6.7</td>\n",
              "      <td>1159320971</td>\n",
              "      <td>Q114</td>\n",
              "      <td>كينيا</td>\n",
              "      <td>কেনিয়া</td>\n",
              "      <td>Kenia</td>\n",
              "      <td>Kenya</td>\n",
              "      <td>Kenia</td>\n",
              "      <td>Kenya</td>\n",
              "      <td>Κένυα</td>\n",
              "      <td>कीनिया</td>\n",
              "      <td>Kenya</td>\n",
              "      <td>Kenya</td>\n",
              "      <td>Kenya</td>\n",
              "      <td>ケニア</td>\n",
              "      <td>케냐</td>\n",
              "      <td>Kenia</td>\n",
              "      <td>Kenia</td>\n",
              "      <td>Quénia</td>\n",
              "      <td>Кения</td>\n",
              "      <td>Kenya</td>\n",
              "      <td>Kenya</td>\n",
              "      <td>Kenya</td>\n",
              "      <td>肯尼亚</td>\n",
              "      <td>POLYGON ((39.20222 -4.67677, 37.76690 -3.67712...</td>\n",
              "    </tr>\n",
              "    <tr>\n",
              "      <th>...</th>\n",
              "      <td>...</td>\n",
              "      <td>...</td>\n",
              "      <td>...</td>\n",
              "      <td>...</td>\n",
              "      <td>...</td>\n",
              "      <td>...</td>\n",
              "      <td>...</td>\n",
              "      <td>...</td>\n",
              "      <td>...</td>\n",
              "      <td>...</td>\n",
              "      <td>...</td>\n",
              "      <td>...</td>\n",
              "      <td>...</td>\n",
              "      <td>...</td>\n",
              "      <td>...</td>\n",
              "      <td>...</td>\n",
              "      <td>...</td>\n",
              "      <td>...</td>\n",
              "      <td>...</td>\n",
              "      <td>...</td>\n",
              "      <td>...</td>\n",
              "      <td>...</td>\n",
              "      <td>...</td>\n",
              "      <td>...</td>\n",
              "      <td>...</td>\n",
              "      <td>...</td>\n",
              "      <td>...</td>\n",
              "      <td>...</td>\n",
              "      <td>...</td>\n",
              "      <td>...</td>\n",
              "      <td>...</td>\n",
              "      <td>...</td>\n",
              "      <td>...</td>\n",
              "      <td>...</td>\n",
              "      <td>...</td>\n",
              "      <td>...</td>\n",
              "      <td>...</td>\n",
              "      <td>...</td>\n",
              "      <td>...</td>\n",
              "      <td>...</td>\n",
              "      <td>...</td>\n",
              "      <td>...</td>\n",
              "      <td>...</td>\n",
              "      <td>...</td>\n",
              "      <td>...</td>\n",
              "      <td>...</td>\n",
              "      <td>...</td>\n",
              "      <td>...</td>\n",
              "      <td>...</td>\n",
              "      <td>...</td>\n",
              "      <td>...</td>\n",
              "      <td>...</td>\n",
              "      <td>...</td>\n",
              "      <td>...</td>\n",
              "      <td>...</td>\n",
              "      <td>...</td>\n",
              "      <td>...</td>\n",
              "      <td>...</td>\n",
              "      <td>...</td>\n",
              "      <td>...</td>\n",
              "      <td>...</td>\n",
              "      <td>...</td>\n",
              "      <td>...</td>\n",
              "      <td>...</td>\n",
              "      <td>...</td>\n",
              "      <td>...</td>\n",
              "      <td>...</td>\n",
              "      <td>...</td>\n",
              "      <td>...</td>\n",
              "      <td>...</td>\n",
              "      <td>...</td>\n",
              "      <td>...</td>\n",
              "      <td>...</td>\n",
              "      <td>...</td>\n",
              "      <td>...</td>\n",
              "      <td>...</td>\n",
              "      <td>...</td>\n",
              "      <td>...</td>\n",
              "      <td>...</td>\n",
              "      <td>...</td>\n",
              "      <td>...</td>\n",
              "    </tr>\n",
              "    <tr>\n",
              "      <th>166</th>\n",
              "      <td>Admin-0 country</td>\n",
              "      <td>1</td>\n",
              "      <td>5</td>\n",
              "      <td>Djibouti</td>\n",
              "      <td>DJI</td>\n",
              "      <td>0</td>\n",
              "      <td>2</td>\n",
              "      <td>Sovereign country</td>\n",
              "      <td>Djibouti</td>\n",
              "      <td>DJI</td>\n",
              "      <td>0</td>\n",
              "      <td>Djibouti</td>\n",
              "      <td>DJI</td>\n",
              "      <td>0</td>\n",
              "      <td>Djibouti</td>\n",
              "      <td>DJI</td>\n",
              "      <td>0</td>\n",
              "      <td>Djibouti</td>\n",
              "      <td>Djibouti</td>\n",
              "      <td>DJI</td>\n",
              "      <td>Djibouti</td>\n",
              "      <td>None</td>\n",
              "      <td>Dji.</td>\n",
              "      <td>DJ</td>\n",
              "      <td>Republic of Djibouti</td>\n",
              "      <td>None</td>\n",
              "      <td>Djibouti</td>\n",
              "      <td>None</td>\n",
              "      <td>None</td>\n",
              "      <td>Djibouti</td>\n",
              "      <td>None</td>\n",
              "      <td>1</td>\n",
              "      <td>2</td>\n",
              "      <td>4</td>\n",
              "      <td>8</td>\n",
              "      <td>865267</td>\n",
              "      <td>11</td>\n",
              "      <td>3345.0</td>\n",
              "      <td>2017</td>\n",
              "      <td>2009</td>\n",
              "      <td>...</td>\n",
              "      <td>DJI</td>\n",
              "      <td>DJI</td>\n",
              "      <td>-99</td>\n",
              "      <td>-99</td>\n",
              "      <td>Africa</td>\n",
              "      <td>Africa</td>\n",
              "      <td>Eastern Africa</td>\n",
              "      <td>Middle East &amp; North Africa</td>\n",
              "      <td>8</td>\n",
              "      <td>8</td>\n",
              "      <td>4</td>\n",
              "      <td>-99</td>\n",
              "      <td>1</td>\n",
              "      <td>0.0</td>\n",
              "      <td>4.0</td>\n",
              "      <td>9.0</td>\n",
              "      <td>1159320541</td>\n",
              "      <td>Q977</td>\n",
              "      <td>جيبوتي</td>\n",
              "      <td>জিবুতি</td>\n",
              "      <td>Dschibuti</td>\n",
              "      <td>Djibouti</td>\n",
              "      <td>Yibuti</td>\n",
              "      <td>Djibouti</td>\n",
              "      <td>Τζιμπουτί</td>\n",
              "      <td>जिबूती</td>\n",
              "      <td>Dzsibuti</td>\n",
              "      <td>Djibouti</td>\n",
              "      <td>Gibuti</td>\n",
              "      <td>ジブチ</td>\n",
              "      <td>지부티</td>\n",
              "      <td>Djibouti</td>\n",
              "      <td>Dżibuti</td>\n",
              "      <td>Djibouti</td>\n",
              "      <td>Джибути</td>\n",
              "      <td>Djibouti</td>\n",
              "      <td>Cibuti</td>\n",
              "      <td>Djibouti</td>\n",
              "      <td>吉布提</td>\n",
              "      <td>POLYGON ((42.35156 12.54223, 42.77964 12.45542...</td>\n",
              "    </tr>\n",
              "    <tr>\n",
              "      <th>167</th>\n",
              "      <td>Admin-0 country</td>\n",
              "      <td>1</td>\n",
              "      <td>5</td>\n",
              "      <td>Somaliland</td>\n",
              "      <td>SOL</td>\n",
              "      <td>0</td>\n",
              "      <td>2</td>\n",
              "      <td>Indeterminate</td>\n",
              "      <td>Somaliland</td>\n",
              "      <td>SOL</td>\n",
              "      <td>0</td>\n",
              "      <td>Somaliland</td>\n",
              "      <td>SOL</td>\n",
              "      <td>0</td>\n",
              "      <td>Somaliland</td>\n",
              "      <td>SOL</td>\n",
              "      <td>1</td>\n",
              "      <td>Somaliland</td>\n",
              "      <td>Somaliland</td>\n",
              "      <td>B30</td>\n",
              "      <td>Somaliland</td>\n",
              "      <td>None</td>\n",
              "      <td>Solnd.</td>\n",
              "      <td>SL</td>\n",
              "      <td>Republic of Somaliland</td>\n",
              "      <td>None</td>\n",
              "      <td>None</td>\n",
              "      <td>Self admin.</td>\n",
              "      <td>Self admin.; Claimed by Somalia</td>\n",
              "      <td>Somaliland</td>\n",
              "      <td>None</td>\n",
              "      <td>3</td>\n",
              "      <td>6</td>\n",
              "      <td>5</td>\n",
              "      <td>2</td>\n",
              "      <td>3500000</td>\n",
              "      <td>12</td>\n",
              "      <td>12250.0</td>\n",
              "      <td>2013</td>\n",
              "      <td>-99</td>\n",
              "      <td>...</td>\n",
              "      <td>SOM</td>\n",
              "      <td>SOM</td>\n",
              "      <td>-99</td>\n",
              "      <td>-99</td>\n",
              "      <td>Africa</td>\n",
              "      <td>Africa</td>\n",
              "      <td>Eastern Africa</td>\n",
              "      <td>Sub-Saharan Africa</td>\n",
              "      <td>10</td>\n",
              "      <td>10</td>\n",
              "      <td>6</td>\n",
              "      <td>-99</td>\n",
              "      <td>1</td>\n",
              "      <td>4.0</td>\n",
              "      <td>4.5</td>\n",
              "      <td>9.0</td>\n",
              "      <td>1159321259</td>\n",
              "      <td>Q34754</td>\n",
              "      <td>صوماليلاند</td>\n",
              "      <td>সোমালিল্যান্ড</td>\n",
              "      <td>Somaliland</td>\n",
              "      <td>Somaliland</td>\n",
              "      <td>Somalilandia</td>\n",
              "      <td>Somaliland</td>\n",
              "      <td>Σομαλιλάνδη</td>\n",
              "      <td>सोमालीदेश</td>\n",
              "      <td>Szomáliföld</td>\n",
              "      <td>Somaliland</td>\n",
              "      <td>Somaliland</td>\n",
              "      <td>ソマリランド</td>\n",
              "      <td>소말릴란드</td>\n",
              "      <td>Somaliland</td>\n",
              "      <td>Somaliland</td>\n",
              "      <td>Somalilândia</td>\n",
              "      <td>Сомалиленд</td>\n",
              "      <td>Somaliland</td>\n",
              "      <td>Somaliland</td>\n",
              "      <td>Somaliland</td>\n",
              "      <td>索马里兰</td>\n",
              "      <td>POLYGON ((48.94820 11.41062, 48.94820 11.41062...</td>\n",
              "    </tr>\n",
              "    <tr>\n",
              "      <th>168</th>\n",
              "      <td>Admin-0 country</td>\n",
              "      <td>1</td>\n",
              "      <td>3</td>\n",
              "      <td>Uganda</td>\n",
              "      <td>UGA</td>\n",
              "      <td>0</td>\n",
              "      <td>2</td>\n",
              "      <td>Sovereign country</td>\n",
              "      <td>Uganda</td>\n",
              "      <td>UGA</td>\n",
              "      <td>0</td>\n",
              "      <td>Uganda</td>\n",
              "      <td>UGA</td>\n",
              "      <td>0</td>\n",
              "      <td>Uganda</td>\n",
              "      <td>UGA</td>\n",
              "      <td>0</td>\n",
              "      <td>Uganda</td>\n",
              "      <td>Uganda</td>\n",
              "      <td>UGA</td>\n",
              "      <td>Uganda</td>\n",
              "      <td>None</td>\n",
              "      <td>Uga.</td>\n",
              "      <td>UG</td>\n",
              "      <td>Republic of Uganda</td>\n",
              "      <td>None</td>\n",
              "      <td>Uganda</td>\n",
              "      <td>None</td>\n",
              "      <td>None</td>\n",
              "      <td>Uganda</td>\n",
              "      <td>None</td>\n",
              "      <td>6</td>\n",
              "      <td>3</td>\n",
              "      <td>6</td>\n",
              "      <td>4</td>\n",
              "      <td>39570125</td>\n",
              "      <td>15</td>\n",
              "      <td>84930.0</td>\n",
              "      <td>2017</td>\n",
              "      <td>2002</td>\n",
              "      <td>...</td>\n",
              "      <td>UGA</td>\n",
              "      <td>UGA</td>\n",
              "      <td>-99</td>\n",
              "      <td>-99</td>\n",
              "      <td>Africa</td>\n",
              "      <td>Africa</td>\n",
              "      <td>Eastern Africa</td>\n",
              "      <td>Sub-Saharan Africa</td>\n",
              "      <td>6</td>\n",
              "      <td>6</td>\n",
              "      <td>4</td>\n",
              "      <td>-99</td>\n",
              "      <td>1</td>\n",
              "      <td>0.0</td>\n",
              "      <td>3.0</td>\n",
              "      <td>8.0</td>\n",
              "      <td>1159321343</td>\n",
              "      <td>Q1036</td>\n",
              "      <td>أوغندا</td>\n",
              "      <td>উগান্ডা</td>\n",
              "      <td>Uganda</td>\n",
              "      <td>Uganda</td>\n",
              "      <td>Uganda</td>\n",
              "      <td>Ouganda</td>\n",
              "      <td>Ουγκάντα</td>\n",
              "      <td>युगाण्डा</td>\n",
              "      <td>Uganda</td>\n",
              "      <td>Uganda</td>\n",
              "      <td>Uganda</td>\n",
              "      <td>ウガンダ</td>\n",
              "      <td>우간다</td>\n",
              "      <td>Oeganda</td>\n",
              "      <td>Uganda</td>\n",
              "      <td>Uganda</td>\n",
              "      <td>Уганда</td>\n",
              "      <td>Uganda</td>\n",
              "      <td>Uganda</td>\n",
              "      <td>Uganda</td>\n",
              "      <td>乌干达</td>\n",
              "      <td>POLYGON ((33.90371 -0.95000, 31.86617 -1.02736...</td>\n",
              "    </tr>\n",
              "    <tr>\n",
              "      <th>169</th>\n",
              "      <td>Admin-0 country</td>\n",
              "      <td>1</td>\n",
              "      <td>3</td>\n",
              "      <td>Rwanda</td>\n",
              "      <td>RWA</td>\n",
              "      <td>0</td>\n",
              "      <td>2</td>\n",
              "      <td>Sovereign country</td>\n",
              "      <td>Rwanda</td>\n",
              "      <td>RWA</td>\n",
              "      <td>0</td>\n",
              "      <td>Rwanda</td>\n",
              "      <td>RWA</td>\n",
              "      <td>0</td>\n",
              "      <td>Rwanda</td>\n",
              "      <td>RWA</td>\n",
              "      <td>0</td>\n",
              "      <td>Rwanda</td>\n",
              "      <td>Rwanda</td>\n",
              "      <td>RWA</td>\n",
              "      <td>Rwanda</td>\n",
              "      <td>None</td>\n",
              "      <td>Rwa.</td>\n",
              "      <td>RW</td>\n",
              "      <td>Republic of Rwanda</td>\n",
              "      <td>None</td>\n",
              "      <td>Rwanda</td>\n",
              "      <td>None</td>\n",
              "      <td>None</td>\n",
              "      <td>Rwanda</td>\n",
              "      <td>None</td>\n",
              "      <td>5</td>\n",
              "      <td>2</td>\n",
              "      <td>3</td>\n",
              "      <td>10</td>\n",
              "      <td>11901484</td>\n",
              "      <td>14</td>\n",
              "      <td>21970.0</td>\n",
              "      <td>2017</td>\n",
              "      <td>2002</td>\n",
              "      <td>...</td>\n",
              "      <td>RWA</td>\n",
              "      <td>RWA</td>\n",
              "      <td>-99</td>\n",
              "      <td>-99</td>\n",
              "      <td>Africa</td>\n",
              "      <td>Africa</td>\n",
              "      <td>Eastern Africa</td>\n",
              "      <td>Sub-Saharan Africa</td>\n",
              "      <td>6</td>\n",
              "      <td>6</td>\n",
              "      <td>4</td>\n",
              "      <td>-99</td>\n",
              "      <td>1</td>\n",
              "      <td>0.0</td>\n",
              "      <td>3.0</td>\n",
              "      <td>8.0</td>\n",
              "      <td>1159321219</td>\n",
              "      <td>Q1037</td>\n",
              "      <td>رواندا</td>\n",
              "      <td>রুয়ান্ডা</td>\n",
              "      <td>Ruanda</td>\n",
              "      <td>Rwanda</td>\n",
              "      <td>Ruanda</td>\n",
              "      <td>Rwanda</td>\n",
              "      <td>Ρουάντα</td>\n",
              "      <td>रवाण्डा</td>\n",
              "      <td>Ruanda</td>\n",
              "      <td>Rwanda</td>\n",
              "      <td>Ruanda</td>\n",
              "      <td>ルワンダ</td>\n",
              "      <td>르완다</td>\n",
              "      <td>Rwanda</td>\n",
              "      <td>Rwanda</td>\n",
              "      <td>Ruanda</td>\n",
              "      <td>Руанда</td>\n",
              "      <td>Rwanda</td>\n",
              "      <td>Ruanda</td>\n",
              "      <td>Rwanda</td>\n",
              "      <td>卢旺达</td>\n",
              "      <td>POLYGON ((30.41910 -1.13466, 30.81613 -1.69891...</td>\n",
              "    </tr>\n",
              "    <tr>\n",
              "      <th>176</th>\n",
              "      <td>Admin-0 country</td>\n",
              "      <td>1</td>\n",
              "      <td>3</td>\n",
              "      <td>South Sudan</td>\n",
              "      <td>SDS</td>\n",
              "      <td>0</td>\n",
              "      <td>2</td>\n",
              "      <td>Sovereign country</td>\n",
              "      <td>South Sudan</td>\n",
              "      <td>SDS</td>\n",
              "      <td>0</td>\n",
              "      <td>South Sudan</td>\n",
              "      <td>SDS</td>\n",
              "      <td>0</td>\n",
              "      <td>South Sudan</td>\n",
              "      <td>SDS</td>\n",
              "      <td>0</td>\n",
              "      <td>S. Sudan</td>\n",
              "      <td>South Sudan</td>\n",
              "      <td>SDS</td>\n",
              "      <td>S. Sudan</td>\n",
              "      <td>None</td>\n",
              "      <td>S. Sud.</td>\n",
              "      <td>SS</td>\n",
              "      <td>Republic of South Sudan</td>\n",
              "      <td>None</td>\n",
              "      <td>South Sudan</td>\n",
              "      <td>None</td>\n",
              "      <td>None</td>\n",
              "      <td>South Sudan</td>\n",
              "      <td>None</td>\n",
              "      <td>1</td>\n",
              "      <td>3</td>\n",
              "      <td>3</td>\n",
              "      <td>5</td>\n",
              "      <td>13026129</td>\n",
              "      <td>14</td>\n",
              "      <td>20880.0</td>\n",
              "      <td>2017</td>\n",
              "      <td>2008</td>\n",
              "      <td>...</td>\n",
              "      <td>SSD</td>\n",
              "      <td>SDS</td>\n",
              "      <td>-99</td>\n",
              "      <td>-99</td>\n",
              "      <td>Africa</td>\n",
              "      <td>Africa</td>\n",
              "      <td>Eastern Africa</td>\n",
              "      <td>Sub-Saharan Africa</td>\n",
              "      <td>8</td>\n",
              "      <td>11</td>\n",
              "      <td>7</td>\n",
              "      <td>-99</td>\n",
              "      <td>1</td>\n",
              "      <td>0.0</td>\n",
              "      <td>3.0</td>\n",
              "      <td>8.0</td>\n",
              "      <td>1159321235</td>\n",
              "      <td>Q958</td>\n",
              "      <td>جنوب السودان</td>\n",
              "      <td>দক্ষিণ সুদান</td>\n",
              "      <td>Südsudan</td>\n",
              "      <td>South Sudan</td>\n",
              "      <td>Sudán del Sur</td>\n",
              "      <td>Soudan du Sud</td>\n",
              "      <td>Νότιο Σουδάν</td>\n",
              "      <td>दक्षिण सूडान</td>\n",
              "      <td>Dél-Szudán</td>\n",
              "      <td>Sudan Selatan</td>\n",
              "      <td>Sudan del Sud</td>\n",
              "      <td>南スーダン</td>\n",
              "      <td>남수단</td>\n",
              "      <td>Zuid-Soedan</td>\n",
              "      <td>Sudan Południowy</td>\n",
              "      <td>Sudão do Sul</td>\n",
              "      <td>Южный Судан</td>\n",
              "      <td>Sydsudan</td>\n",
              "      <td>Güney Sudan</td>\n",
              "      <td>Nam Sudan</td>\n",
              "      <td>南苏丹</td>\n",
              "      <td>POLYGON ((30.83385 3.50917, 29.95350 4.17370, ...</td>\n",
              "    </tr>\n",
              "  </tbody>\n",
              "</table>\n",
              "<p>51 rows × 95 columns</p>\n",
              "</div>"
            ],
            "text/plain": [
              "          featurecla  ...                                           geometry\n",
              "1    Admin-0 country  ...  POLYGON ((33.90371 -0.95000, 34.07262 -1.05982...\n",
              "2    Admin-0 country  ...  POLYGON ((-8.66559 27.65643, -8.66512 27.58948...\n",
              "11   Admin-0 country  ...  POLYGON ((29.34000 -4.49998, 29.51999 -5.41998...\n",
              "12   Admin-0 country  ...  POLYGON ((41.58513 -1.68325, 40.99300 -0.85829...\n",
              "13   Admin-0 country  ...  POLYGON ((39.20222 -4.67677, 37.76690 -3.67712...\n",
              "..               ...  ...                                                ...\n",
              "166  Admin-0 country  ...  POLYGON ((42.35156 12.54223, 42.77964 12.45542...\n",
              "167  Admin-0 country  ...  POLYGON ((48.94820 11.41062, 48.94820 11.41062...\n",
              "168  Admin-0 country  ...  POLYGON ((33.90371 -0.95000, 31.86617 -1.02736...\n",
              "169  Admin-0 country  ...  POLYGON ((30.41910 -1.13466, 30.81613 -1.69891...\n",
              "176  Admin-0 country  ...  POLYGON ((30.83385 3.50917, 29.95350 4.17370, ...\n",
              "\n",
              "[51 rows x 95 columns]"
            ]
          },
          "metadata": {
            "tags": []
          },
          "execution_count": 28
        }
      ]
    },
    {
      "cell_type": "code",
      "metadata": {
        "colab": {
          "base_uri": "https://localhost:8080/",
          "height": 284
        },
        "id": "-f8s1R5SAiEB",
        "outputId": "4e11f52c-a623-48d2-b341-9b0b176937e8"
      },
      "source": [
        "africa.plot()"
      ],
      "execution_count": 29,
      "outputs": [
        {
          "output_type": "execute_result",
          "data": {
            "text/plain": [
              "<matplotlib.axes._subplots.AxesSubplot at 0x7fcb8621fa50>"
            ]
          },
          "metadata": {
            "tags": []
          },
          "execution_count": 29
        },
        {
          "output_type": "display_data",
          "data": {
            "image/png": "[encoded data removed]",
            "text/plain": [
              "<Figure size 432x288 with 1 Axes>"
            ]
          },
          "metadata": {
            "tags": [],
            "needs_background": "light"
          }
        }
      ]
    },
    {
      "cell_type": "code",
      "metadata": {
        "colab": {
          "base_uri": "https://localhost:8080/",
          "height": 121
        },
        "id": "iqLTNq4QDode",
        "outputId": "7e9f89d5-c029-49ed-83cf-06992af49f67"
      },
      "source": [
        "countries.geometry[2]"
      ],
      "execution_count": 38,
      "outputs": [
        {
          "output_type": "execute_result",
          "data": {
            "text/plain": [
              "<shapely.geometry.polygon.Polygon at 0x7fcb86548610>"
            ],
            "image/svg+xml": "<svg xmlns=\"http://www.w3.org/2000/svg\" xmlns:xlink=\"http://www.w3.org/1999/xlink\" width=\"100.0\" height=\"100.0\" viewBox=\"-17.399355174213706 20.663820152259692 9.07016264652065 7.328537687203799\" preserveAspectRatio=\"xMinYMin meet\"><g transform=\"matrix(1,0,0,-1,0,48.65617799172318)\"><path fill-rule=\"evenodd\" fill=\"#66cc99\" stroke=\"#555555\" stroke-width=\"0.181403252930413\" opacity=\"0.6\" d=\"M -8.665589565454809,27.656425889592356 L -8.665124477564191,27.589479071558227 L -8.684399786809053,27.395744126896005 L -8.6872936670174,25.881056219988906 L -11.96941891117116,25.933352769468268 L -11.937224493853321,23.374594224536168 L -12.874221564169575,23.284832261645178 L -13.118754441774712,22.771220201096256 L -12.929101935263532,21.327070624267563 L -16.845193650773993,21.33332347257488 L -17.06342322434257,20.999752102130827 L -17.02042843267577,21.422310288981578 L -17.00296179856109,21.420734157796577 L -14.750954555713534,21.500600083903663 L -14.630832688851072,21.860939846274903 L -14.221167771857253,22.31016307218816 L -13.891110398809047,23.691009019459305 L -12.50096269372537,24.7701162785782 L -12.03075883630163,26.030866197203068 L -11.718219773800357,26.104091701760623 L -11.392554897497007,26.883423977154393 L -10.551262579785273,26.990807603456886 L -10.189424200877582,26.860944729107405 L -9.735343390328879,26.860944729107405 L -9.41303748212448,27.088476060488574 L -8.794883999049077,27.120696316022507 L -8.817828334986672,27.656425889592356 L -8.665589565454809,27.656425889592356 z\" /></g></svg>"
          },
          "metadata": {
            "tags": []
          },
          "execution_count": 38
        }
      ]
    },
    {
      "cell_type": "code",
      "metadata": {
        "colab": {
          "base_uri": "https://localhost:8080/"
        },
        "id": "QMySzMZeDr1-",
        "outputId": "49824f94-cc36-4c57-964c-daae05d3c910"
      },
      "source": [
        "countries.geometry[2].area"
      ],
      "execution_count": 39,
      "outputs": [
        {
          "output_type": "execute_result",
          "data": {
            "text/plain": [
              "8.603984207472143"
            ]
          },
          "metadata": {
            "tags": []
          },
          "execution_count": 39
        }
      ]
    },
    {
      "cell_type": "code",
      "metadata": {
        "colab": {
          "base_uri": "https://localhost:8080/"
        },
        "id": "tX30NIBdA-Tm",
        "outputId": "ae9014d6-2564-46f7-fc29-20aaef71af23"
      },
      "source": [
        "print(countries.geometry[2])"
      ],
      "execution_count": 30,
      "outputs": [
        {
          "output_type": "stream",
          "text": [
            "POLYGON ((-8.665589565454809 27.65642588959236, -8.665124477564191 27.58947907155823, -8.684399786809053 27.39574412689601, -8.6872936670174 25.88105621998891, -11.96941891117116 25.93335276946827, -11.93722449385332 23.37459422453617, -12.87422156416958 23.28483226164518, -13.11875444177471 22.77122020109626, -12.92910193526353 21.32707062426756, -16.84519365077399 21.33332347257488, -17.06342322434257 20.99975210213083, -17.02042843267577 21.42231028898158, -17.00296179856109 21.42073415779658, -14.75095455571353 21.50060008390366, -14.63083268885107 21.8609398462749, -14.22116777185725 22.31016307218816, -13.89111039880905 23.6910090194593, -12.50096269372537 24.7701162785782, -12.03075883630163 26.03086619720307, -11.71821977380036 26.10409170176062, -11.39255489749701 26.88342397715439, -10.55126257978527 26.99080760345689, -10.18942420087758 26.86094472910741, -9.735343390328879 26.86094472910741, -9.41303748212448 27.08847606048857, -8.794883999049077 27.12069631602251, -8.817828334986672 27.65642588959236, -8.665589565454809 27.65642588959236))\n"
          ],
          "name": "stdout"
        }
      ]
    },
    {
      "cell_type": "markdown",
      "metadata": {
        "id": "ufXcWDOyCNl1"
      },
      "source": [
        "Importing city dataset"
      ]
    },
    {
      "cell_type": "code",
      "metadata": {
        "id": "kFHjijRSBwjP"
      },
      "source": [
        "cities = geopandas.read_file(\"/content/ne_110m_populated_places.zip\")"
      ],
      "execution_count": 31,
      "outputs": []
    },
    {
      "cell_type": "code",
      "metadata": {
        "colab": {
          "base_uri": "https://localhost:8080/"
        },
        "id": "EkjXOmzECAa4",
        "outputId": "e599fcf6-81cf-415a-a426-a02cad1536c0"
      },
      "source": [
        "print(cities.geometry[0])"
      ],
      "execution_count": 32,
      "outputs": [
        {
          "output_type": "stream",
          "text": [
            "POINT (12.45338654497177 41.90328217996012)\n"
          ],
          "name": "stdout"
        }
      ]
    },
    {
      "cell_type": "code",
      "metadata": {
        "id": "pcQ57SSECCkF"
      },
      "source": [
        "rivers = geopandas.read_file(\"/content/ne_50m_rivers_lake_centerlines.zip\")"
      ],
      "execution_count": 33,
      "outputs": []
    },
    {
      "cell_type": "code",
      "metadata": {
        "colab": {
          "base_uri": "https://localhost:8080/"
        },
        "id": "2bVHuniDCi4X",
        "outputId": "a9e27cd9-10af-402b-877e-1e897e319d57"
      },
      "source": [
        "print(rivers.geometry[0])"
      ],
      "execution_count": 34,
      "outputs": [
        {
          "output_type": "stream",
          "text": [
            "LINESTRING (51.9371337598152 55.70106609892139, 51.88086646731369 55.68625891701544, 51.82031249962222 55.69745514553858, 51.7476018274624 55.69366250841807, 51.6628417966117 55.60817291874525, 51.57871093775964 55.59943268477065, 51.51342773400279 55.58312409100404, 51.50854492161091 55.52948639548083, 51.48583984403365 55.49640534033426, 51.36914062543957 55.46796295772435, 51.21306254869774 55.50264985760492, 51.13452148447897 55.48273346527725, 51.07934570274205 55.46759674659262, 50.98022460947817 55.46637604371949, 50.83445217522774 55.45630956063775, 50.6883789060617 55.42011139502489, 50.4118652342932 55.40119049644431, 50.07802734358711 55.38112213757665, 49.82216796867687 55.33466217681809, 49.53222656260584 55.260614325191, 49.38232421848795 55.17182037990665, 49.24808475131027 55.11301870345045)\n"
          ],
          "name": "stdout"
        }
      ]
    },
    {
      "cell_type": "code",
      "metadata": {
        "colab": {
          "base_uri": "https://localhost:8080/"
        },
        "id": "SyUSqVAVClQf",
        "outputId": "dc7dbc8e-19d4-481f-973a-1929bce97e41"
      },
      "source": [
        "type(countries.geometry[0])"
      ],
      "execution_count": 35,
      "outputs": [
        {
          "output_type": "execute_result",
          "data": {
            "text/plain": [
              "shapely.geometry.multipolygon.MultiPolygon"
            ]
          },
          "metadata": {
            "tags": []
          },
          "execution_count": 35
        }
      ]
    },
    {
      "cell_type": "code",
      "metadata": {
        "colab": {
          "base_uri": "https://localhost:8080/"
        },
        "id": "oFFU_nc3Co4K",
        "outputId": "cfc034f0-f22b-4789-c9c9-016b84c50921"
      },
      "source": [
        "from shapely.geometry import Point, Polygon, LineString\n",
        "p = Point(1, 1)\n",
        "print(p)"
      ],
      "execution_count": 36,
      "outputs": [
        {
          "output_type": "stream",
          "text": [
            "POINT (1 1)\n"
          ],
          "name": "stdout"
        }
      ]
    },
    {
      "cell_type": "code",
      "metadata": {
        "colab": {
          "base_uri": "https://localhost:8080/",
          "height": 121
        },
        "id": "xg1YjzPgCygl",
        "outputId": "f9241695-57ca-4fd3-93d5-34ac0ac05af3"
      },
      "source": [
        "polygon = Polygon([(1, 1), (2,2), (2, 1)])\n",
        "polygon"
      ],
      "execution_count": 42,
      "outputs": [
        {
          "output_type": "execute_result",
          "data": {
            "text/plain": [
              "<shapely.geometry.polygon.Polygon at 0x7fcb86241b10>"
            ],
            "image/svg+xml": "<svg xmlns=\"http://www.w3.org/2000/svg\" xmlns:xlink=\"http://www.w3.org/1999/xlink\" width=\"100.0\" height=\"100.0\" viewBox=\"0.96 0.96 1.08 1.08\" preserveAspectRatio=\"xMinYMin meet\"><g transform=\"matrix(1,0,0,-1,0,3.0)\"><path fill-rule=\"evenodd\" fill=\"#66cc99\" stroke=\"#555555\" stroke-width=\"0.0216\" opacity=\"0.6\" d=\"M 1.0,1.0 L 2.0,2.0 L 2.0,1.0 L 1.0,1.0 z\" /></g></svg>"
          },
          "metadata": {
            "tags": []
          },
          "execution_count": 42
        }
      ]
    },
    {
      "cell_type": "code",
      "metadata": {
        "colab": {
          "base_uri": "https://localhost:8080/"
        },
        "id": "HtdGAu9_EHL2",
        "outputId": "2949b036-4b64-4a1a-cd8b-674530dc1b8b"
      },
      "source": [
        "polygon.area"
      ],
      "execution_count": 43,
      "outputs": [
        {
          "output_type": "execute_result",
          "data": {
            "text/plain": [
              "0.5"
            ]
          },
          "metadata": {
            "tags": []
          },
          "execution_count": 43
        }
      ]
    },
    {
      "cell_type": "markdown",
      "metadata": {
        "id": "Ik1r4j3UEKGM"
      },
      "source": [
        "Coordinate reference system"
      ]
    },
    {
      "cell_type": "code",
      "metadata": {
        "colab": {
          "base_uri": "https://localhost:8080/"
        },
        "id": "6pOchy0bC02J",
        "outputId": "0c2a7a4e-4c5e-4804-df4f-389734f5a51e"
      },
      "source": [
        "countries.crs"
      ],
      "execution_count": 40,
      "outputs": [
        {
          "output_type": "execute_result",
          "data": {
            "text/plain": [
              "<Geographic 2D CRS: EPSG:4326>\n",
              "Name: WGS 84\n",
              "Axis Info [ellipsoidal]:\n",
              "- Lat[north]: Geodetic latitude (degree)\n",
              "- Lon[east]: Geodetic longitude (degree)\n",
              "Area of Use:\n",
              "- name: World.\n",
              "- bounds: (-180.0, -90.0, 180.0, 90.0)\n",
              "Datum: World Geodetic System 1984\n",
              "- Ellipsoid: WGS 84\n",
              "- Prime Meridian: Greenwich"
            ]
          },
          "metadata": {
            "tags": []
          },
          "execution_count": 40
        }
      ]
    },
    {
      "cell_type": "code",
      "metadata": {
        "colab": {
          "base_uri": "https://localhost:8080/",
          "height": 227
        },
        "id": "xTLaf85TEBvp",
        "outputId": "46047b21-9350-418d-bbc8-8ba0600787f9"
      },
      "source": [
        "countries.plot()"
      ],
      "execution_count": 44,
      "outputs": [
        {
          "output_type": "execute_result",
          "data": {
            "text/plain": [
              "<matplotlib.axes._subplots.AxesSubplot at 0x7fcb8628d490>"
            ]
          },
          "metadata": {
            "tags": []
          },
          "execution_count": 44
        },
        {
          "output_type": "display_data",
          "data": {
            "image/png": "[encoded data removed]",
            "text/plain": [
              "<Figure size 432x288 with 1 Axes>"
            ]
          },
          "metadata": {
            "tags": [],
            "needs_background": "light"
          }
        }
      ]
    },
    {
      "cell_type": "markdown",
      "metadata": {
        "id": "w7n6W4IqF4mV"
      },
      "source": [
        "\n",
        "There are sometimes good reasons you want to change the coordinate references system of your dataset, for example:\n",
        "\n",
        "different sources with different crs -> need to convert to the same crs\n",
        "distance-based operations -> if you a crs that has meter units (not degrees)\n",
        "\n",
        "plotting in a certain crs (eg to preserve area)\n",
        "We can convert a GeoDataFrame to another reference system using the to_crs function."
      ]
    },
    {
      "cell_type": "code",
      "metadata": {
        "id": "HpkLZHQaESYj"
      },
      "source": [
        "# remove Antartica, as the Mercator projection cannot deal with the poles\n",
        "countries = countries[(countries['NAME'] != \"Antarctica\")]"
      ],
      "execution_count": 46,
      "outputs": []
    },
    {
      "cell_type": "code",
      "metadata": {
        "id": "ulQ0emHuFmbA"
      },
      "source": [
        "\n",
        "countries_mercator = countries.to_crs(epsg=3395)  # or .to_crs({'init': 'epsg:3395'})"
      ],
      "execution_count": 47,
      "outputs": []
    },
    {
      "cell_type": "code",
      "metadata": {
        "colab": {
          "base_uri": "https://localhost:8080/",
          "height": 305
        },
        "id": "BnSIFZU0FrTe",
        "outputId": "c05185c6-30be-42cf-ccb7-094befb23cdc"
      },
      "source": [
        "countries_mercator.plot()"
      ],
      "execution_count": 48,
      "outputs": [
        {
          "output_type": "execute_result",
          "data": {
            "text/plain": [
              "<matplotlib.axes._subplots.AxesSubplot at 0x7fcb8623d050>"
            ]
          },
          "metadata": {
            "tags": []
          },
          "execution_count": 48
        },
        {
          "output_type": "display_data",
          "data": {
            "image/png": "[encoded data removed]",
            "text/plain": [
              "<Figure size 432x288 with 1 Axes>"
            ]
          },
          "metadata": {
            "tags": [],
            "needs_background": "light"
          }
        }
      ]
    },
    {
      "cell_type": "markdown",
      "metadata": {
        "id": "Sh-WiyWwHcfz"
      },
      "source": [
        "Plotting countries - polygons , rivers - lines and cities - points together"
      ]
    },
    {
      "cell_type": "code",
      "metadata": {
        "colab": {
          "base_uri": "https://localhost:8080/",
          "height": 613
        },
        "id": "mVX73LasFtg4",
        "outputId": "afffc65b-af36-44cc-dd93-1ba52414c6ee"
      },
      "source": [
        "ax = countries.plot(edgecolor='k', facecolor='green', figsize=(15, 10))\n",
        "rivers.plot(ax=ax)\n",
        "cities.plot(ax=ax, color='red')\n",
        "ax.set(xlim=(-20, 60), ylim=(-40, 40))"
      ],
      "execution_count": 50,
      "outputs": [
        {
          "output_type": "execute_result",
          "data": {
            "text/plain": [
              "[(-40.0, 40.0), (-20.0, 60.0)]"
            ]
          },
          "metadata": {
            "tags": []
          },
          "execution_count": 50
        },
        {
          "output_type": "display_data",
          "data": {
            "image/png": "[encoded data removed]",
            "text/plain": [
              "<Figure size 1080x720 with 1 Axes>"
            ]
          },
          "metadata": {
            "tags": [],
            "needs_background": "light"
          }
        }
      ]
    },
    {
      "cell_type": "code",
      "metadata": {
        "id": "5eoNBgq1GBjZ"
      },
      "source": [
        ""
      ],
      "execution_count": null,
      "outputs": []
    }
  ]
}